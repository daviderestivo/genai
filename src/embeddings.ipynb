{
 "cells": [
  {
   "cell_type": "markdown",
   "id": "c1df1fec-a6e8-4356-bd55-c6a65849419e",
   "metadata": {},
   "source": [
    "# Embeddings"
   ]
  },
  {
   "cell_type": "code",
   "execution_count": 1,
   "id": "24d681ee-2ac7-4c50-a986-8bd715d54d8b",
   "metadata": {},
   "outputs": [
    {
     "name": "stdout",
     "output_type": "stream",
     "text": [
      "Requirement already satisfied: matplotlib in /Users/taareda4/pyvenv@3.12/lib/python3.12/site-packages (3.10.3)\n",
      "Requirement already satisfied: gensim in /Users/taareda4/pyvenv@3.12/lib/python3.12/site-packages (4.3.3)\n",
      "Requirement already satisfied: scikit-learn in /Users/taareda4/pyvenv@3.12/lib/python3.12/site-packages (1.7.0)\n",
      "Requirement already satisfied: contourpy>=1.0.1 in /Users/taareda4/pyvenv@3.12/lib/python3.12/site-packages (from matplotlib) (1.3.2)\n",
      "Requirement already satisfied: cycler>=0.10 in /Users/taareda4/pyvenv@3.12/lib/python3.12/site-packages (from matplotlib) (0.12.1)\n",
      "Requirement already satisfied: fonttools>=4.22.0 in /Users/taareda4/pyvenv@3.12/lib/python3.12/site-packages (from matplotlib) (4.58.4)\n",
      "Requirement already satisfied: kiwisolver>=1.3.1 in /Users/taareda4/pyvenv@3.12/lib/python3.12/site-packages (from matplotlib) (1.4.8)\n",
      "Requirement already satisfied: numpy>=1.23 in /Users/taareda4/pyvenv@3.12/lib/python3.12/site-packages (from matplotlib) (1.26.4)\n",
      "Requirement already satisfied: packaging>=20.0 in /Users/taareda4/pyvenv@3.12/lib/python3.12/site-packages (from matplotlib) (25.0)\n",
      "Requirement already satisfied: pillow>=8 in /Users/taareda4/pyvenv@3.12/lib/python3.12/site-packages (from matplotlib) (11.2.1)\n",
      "Requirement already satisfied: pyparsing>=2.3.1 in /Users/taareda4/pyvenv@3.12/lib/python3.12/site-packages (from matplotlib) (3.2.3)\n",
      "Requirement already satisfied: python-dateutil>=2.7 in /Users/taareda4/pyvenv@3.12/lib/python3.12/site-packages (from matplotlib) (2.9.0.post0)\n",
      "Requirement already satisfied: scipy<1.14.0,>=1.7.0 in /Users/taareda4/pyvenv@3.12/lib/python3.12/site-packages (from gensim) (1.13.1)\n",
      "Requirement already satisfied: smart-open>=1.8.1 in /Users/taareda4/pyvenv@3.12/lib/python3.12/site-packages (from gensim) (7.1.0)\n",
      "Requirement already satisfied: joblib>=1.2.0 in /Users/taareda4/pyvenv@3.12/lib/python3.12/site-packages (from scikit-learn) (1.5.1)\n",
      "Requirement already satisfied: threadpoolctl>=3.1.0 in /Users/taareda4/pyvenv@3.12/lib/python3.12/site-packages (from scikit-learn) (3.6.0)\n",
      "Requirement already satisfied: six>=1.5 in /Users/taareda4/pyvenv@3.12/lib/python3.12/site-packages (from python-dateutil>=2.7->matplotlib) (1.17.0)\n",
      "Requirement already satisfied: wrapt in /Users/taareda4/pyvenv@3.12/lib/python3.12/site-packages (from smart-open>=1.8.1->gensim) (1.17.2)\n"
     ]
    }
   ],
   "source": [
    "# Install gensim - Requires python@3.12\n",
    "# source ~/pyvenv3.12/bin/activate\n",
    "! pip install matplotlib gensim scikit-learn"
   ]
  },
  {
   "cell_type": "code",
   "execution_count": 2,
   "id": "bb508847-a6b0-4acd-8c2f-1d23111c1efd",
   "metadata": {},
   "outputs": [],
   "source": [
    "import gensim.downloader\n",
    "import numpy as np\n",
    "from sklearn.decomposition import PCA"
   ]
  },
  {
   "cell_type": "code",
   "execution_count": 3,
   "id": "a0d20b3b-47c7-49af-b911-9c2da23bc333",
   "metadata": {},
   "outputs": [],
   "source": [
    "# \n",
    "# Fetches and loads pre-trained GloVe model trained on the Wikipedia + Gigaword corpus, \n",
    "# with 50-dimensional vectors.\n",
    "# Ref: https://github.com/RaRe-Technologies/gensim-data\n",
    "#\n",
    "model = gensim.downloader.load(\"glove-wiki-gigaword-50\")"
   ]
  },
  {
   "cell_type": "code",
   "execution_count": 4,
   "id": "601c7f88-151d-4d8e-a69b-23cd8dc3a0e6",
   "metadata": {},
   "outputs": [
    {
     "data": {
      "text/plain": [
       "array([-0.087144  ,  0.2182    , -0.40985996, -0.03922001, -0.10320008,\n",
       "        0.94165003, -0.06042001,  0.32988   ,  0.46144   , -0.35962   ,\n",
       "        0.31102   , -0.86824   ,  0.96006   ,  0.01073003,  0.24337   ,\n",
       "        0.08193001, -1.02722   , -0.21122   ,  0.695044  , -0.00222   ,\n",
       "        0.29106003,  0.50530005, -0.099454  ,  0.40445   ,  0.30181003,\n",
       "        0.1355002 , -0.06060004, -0.07131001, -0.19245   , -0.06115001,\n",
       "       -0.3204    ,  0.07165   , -0.13337001, -0.25068715, -0.14292999,\n",
       "       -0.224957  , -0.14899999,  0.048882  ,  0.12191002, -0.27362   ,\n",
       "       -0.16547601, -0.20426002,  0.54376   , -0.27142498, -0.10244995,\n",
       "       -0.32108003,  0.2516    , -0.33454996, -0.04371002,  0.01258   ],\n",
       "      dtype=float32)"
      ]
     },
     "execution_count": 4,
     "metadata": {},
     "output_type": "execute_result"
    }
   ],
   "source": [
    "# Each direction in the n-dimensional embedding space encodes a concept\n",
    "# (meaning).\n",
    "\n",
    "# To try this out take the embedding of 'woman' subtract it from the\n",
    "# embedding of 'man' and add the result to 'uncle'. You should get\n",
    "# something close to 'aunt'. Same would be if you add it to 'son' you\n",
    "# should probably get something close to 'daughter'.\n",
    "\n",
    "\n",
    "gender = model ['woman'] - model['man']\n",
    "gender"
   ]
  },
  {
   "cell_type": "code",
   "execution_count": 5,
   "id": "f8a9a405-bf40-404e-ba54-d74213a88dc9",
   "metadata": {},
   "outputs": [
    {
     "data": {
      "text/plain": [
       "array([ 0.22113599,  0.72757006, -0.43271995, -0.70343006,  0.8524299 ,\n",
       "        1.37773   , -0.74656   ,  1.0696    , -0.41879   , -0.333256  ,\n",
       "        0.17927998,  0.71765995,  0.83450997, -0.38975996,  0.98885   ,\n",
       "       -0.01414299, -1.36834   ,  0.08759999,  0.935434  ,  0.43372   ,\n",
       "        0.06253003,  0.72099006, -0.236034  ,  0.67634   ,  0.94377005,\n",
       "       -1.5340998 , -0.58015007, -1.1491101 ,  0.24095   ,  0.07615998,\n",
       "        0.65703   , -0.19883999, -0.45787   ,  0.21763286,  0.43488002,\n",
       "        0.286413  , -0.32475   ,  0.260062  ,  0.51246   , -0.16614002,\n",
       "       -0.21982701,  0.75162995, -0.45247   , -0.40711498,  0.36315006,\n",
       "       -0.40672302, -0.39044002, -2.20175   , -0.02446802,  0.40081   ],\n",
       "      dtype=float32)"
      ]
     },
     "execution_count": 5,
     "metadata": {},
     "output_type": "execute_result"
    }
   ],
   "source": [
    "aunt = model['uncle'] + gender\n",
    "aunt"
   ]
  },
  {
   "cell_type": "code",
   "execution_count": 6,
   "id": "0160ce24-3178-4713-b769-a9c6444546ed",
   "metadata": {},
   "outputs": [
    {
     "data": {
      "text/plain": [
       "[('daughter', 0.9085105061531067),\n",
       " ('niece', 0.8983901143074036),\n",
       " ('grandmother', 0.8875367045402527),\n",
       " ('aunt', 0.8853771686553955),\n",
       " ('granddaughter', 0.8820971250534058),\n",
       " ('mother', 0.8787825703620911),\n",
       " ('uncle', 0.85622638463974),\n",
       " ('wife', 0.8540744185447693),\n",
       " ('cousin', 0.8480611443519592),\n",
       " ('widow', 0.842739462852478)]"
      ]
     },
     "execution_count": 6,
     "metadata": {},
     "output_type": "execute_result"
    }
   ],
   "source": [
    "model.most_similar(aunt)"
   ]
  },
  {
   "cell_type": "code",
   "execution_count": 7,
   "id": "4926a5fc-73ed-4567-87fa-c7b0b11dcdd6",
   "metadata": {},
   "outputs": [],
   "source": [
    "daughter = model['son'] + gender"
   ]
  },
  {
   "cell_type": "code",
   "execution_count": 8,
   "id": "169dd831-e354-4c8a-b4e5-7f0b50f9bf9d",
   "metadata": {},
   "outputs": [
    {
     "data": {
      "text/plain": [
       "[('daughter', 0.9658342003822327),\n",
       " ('mother', 0.9153612852096558),\n",
       " ('wife', 0.9149919748306274),\n",
       " ('son', 0.9038690328598022),\n",
       " ('niece', 0.8937416672706604),\n",
       " ('father', 0.8929339051246643),\n",
       " ('granddaughter', 0.8836506009101868),\n",
       " ('married', 0.8753612637519836),\n",
       " ('grandmother', 0.8670457601547241),\n",
       " ('cousin', 0.8648673295974731)]"
      ]
     },
     "execution_count": 8,
     "metadata": {},
     "output_type": "execute_result"
    }
   ],
   "source": [
    "model.most_similar(daughter)"
   ]
  },
  {
   "cell_type": "code",
   "execution_count": 9,
   "id": "27fa7a91-f57d-4468-abf8-f59b1ee523bc",
   "metadata": {},
   "outputs": [],
   "source": [
    "# Initialize PCA to reduce to 3 dimensions\n",
    "pca = PCA(n_components=3)"
   ]
  },
  {
   "cell_type": "code",
   "execution_count": 10,
   "id": "12b45392-78be-4f78-86a4-7b8168b24fe4",
   "metadata": {},
   "outputs": [
    {
     "data": {
      "text/plain": [
       "array([[-9.4386e-02,  4.3007e-01, -1.7224e-01, -4.5529e-01,  1.6447e+00,\n",
       "         4.0335e-01, -3.7263e-01,  2.5071e-01, -1.0588e-01,  1.0778e-01,\n",
       "        -1.0848e-01,  1.5181e-01, -6.5396e-01,  5.5054e-01,  5.9591e-01,\n",
       "        -4.6278e-01,  1.1847e-01,  6.4448e-01, -7.0948e-01,  2.3947e-01,\n",
       "        -8.2905e-01,  1.2720e+00,  3.3021e-02,  2.9350e-01,  3.9110e-01,\n",
       "        -2.8094e+00, -7.0745e-01,  4.1060e-01,  3.8940e-01, -2.9130e-01,\n",
       "         2.6124e+00, -3.4576e-01, -1.6832e-01,  2.5154e-01,  3.1216e-01,\n",
       "         3.1639e-01,  1.2539e-01, -1.2646e-02,  2.2297e-01, -5.6585e-01,\n",
       "        -8.6264e-02,  6.2549e-01, -5.7600e-02,  2.9375e-01,  6.6005e-01,\n",
       "        -5.3115e-01, -4.8233e-01, -9.7925e-01,  5.3135e-01, -1.1725e-01],\n",
       "       [-1.8153e-01,  6.4827e-01, -5.8210e-01, -4.9451e-01,  1.5415e+00,\n",
       "         1.3450e+00, -4.3305e-01,  5.8059e-01,  3.5556e-01, -2.5184e-01,\n",
       "         2.0254e-01, -7.1643e-01,  3.0610e-01,  5.6127e-01,  8.3928e-01,\n",
       "        -3.8085e-01, -9.0875e-01,  4.3326e-01, -1.4436e-02,  2.3725e-01,\n",
       "        -5.3799e-01,  1.7773e+00, -6.6433e-02,  6.9795e-01,  6.9291e-01,\n",
       "        -2.6739e+00, -7.6805e-01,  3.3929e-01,  1.9695e-01, -3.5245e-01,\n",
       "         2.2920e+00, -2.7411e-01, -3.0169e-01,  8.5286e-04,  1.6923e-01,\n",
       "         9.1433e-02, -2.3610e-02,  3.6236e-02,  3.4488e-01, -8.3947e-01,\n",
       "        -2.5174e-01,  4.2123e-01,  4.8616e-01,  2.2325e-02,  5.5760e-01,\n",
       "        -8.5223e-01, -2.3073e-01, -1.3138e+00,  4.8764e-01, -1.0467e-01],\n",
       "       [ 2.7710e-01,  9.7784e-01, -1.4470e-01, -4.8693e-01,  1.1714e+00,\n",
       "         6.7133e-01, -8.6157e-01,  6.3143e-01, -9.8881e-01, -1.1358e-01,\n",
       "         2.2460e-01,  1.2442e+00, -5.9939e-01, -1.0432e+00,  6.7863e-01,\n",
       "        -1.0454e-01, -6.2641e-01,  1.7461e-01, -1.6960e-01,  9.5344e-01,\n",
       "        -4.6932e-01,  8.9562e-01, -3.0832e-01,  1.0274e-01,  8.0234e-01,\n",
       "        -2.4357e+00, -4.7613e-01, -1.2526e+00,  1.1240e-01,  4.5486e-01,\n",
       "         1.7478e+00, -4.5626e-01, -6.3565e-01,  5.6231e-01,  1.0432e+00,\n",
       "         6.3764e-02,  1.0414e-01,  2.1323e-01,  5.6448e-01,  1.1494e-01,\n",
       "        -3.2541e-02,  7.5053e-01, -7.1651e-01, -5.0863e-01,  5.2775e-01,\n",
       "        -5.1207e-01, -7.2506e-01, -1.8436e+00,  3.8052e-01,  3.6673e-01],\n",
       "       [ 3.7648e-01,  1.2426e+00, -3.9739e-01, -5.3184e-01,  1.1870e+00,\n",
       "         1.5091e+00, -8.4171e-01,  6.7881e-01, -2.5809e-01, -4.7984e-01,\n",
       "         1.7823e-01,  7.4667e-01, -1.3473e-01, -9.2361e-01,  9.5622e-01,\n",
       "         2.0569e-01, -1.2239e+00, -5.5043e-02,  5.6182e-01,  7.8077e-01,\n",
       "        -4.4090e-02,  1.5692e+00, -6.6821e-02,  2.5140e-01,  1.0403e+00,\n",
       "        -2.1412e+00, -3.1986e-01, -7.7169e-01, -2.9177e-02,  4.7146e-02,\n",
       "         1.4145e+00, -2.3272e-01, -3.4426e-01,  2.2699e-01,  8.8573e-01,\n",
       "        -2.0184e-01, -1.5168e-01,  3.6210e-01,  6.4950e-01, -6.8719e-01,\n",
       "        -6.8208e-02,  5.3595e-01, -1.5289e-01, -9.0156e-01,  3.8965e-01,\n",
       "        -5.2300e-01, -3.2187e-01, -2.4262e+00,  3.0053e-01,  3.3888e-01]],\n",
       "      dtype=float32)"
      ]
     },
     "execution_count": 10,
     "metadata": {},
     "output_type": "execute_result"
    }
   ],
   "source": [
    "vectors_multidim = np.array([model[\"man\"], model[\"woman\"], model[\"son\"], model[\"daughter\"]])\n",
    "vectors_multidim"
   ]
  },
  {
   "cell_type": "code",
   "execution_count": 11,
   "id": "b74a65b9-0947-40e6-991d-c488deba2215",
   "metadata": {},
   "outputs": [
    {
     "data": {
      "text/plain": [
       "array([[ 1.9551128 , -1.2536955 , -0.37707454],\n",
       "       [ 1.8767699 ,  1.2286208 ,  0.4011418 ],\n",
       "       [-1.9945672 , -1.2168049 ,  0.38056934],\n",
       "       [-1.8373142 ,  1.2418792 , -0.404636  ]], dtype=float32)"
      ]
     },
     "execution_count": 11,
     "metadata": {},
     "output_type": "execute_result"
    }
   ],
   "source": [
    "vectors_3d  = pca.fit_transform(vectors_multidim)\n",
    "vectors_3d"
   ]
  },
  {
   "cell_type": "code",
   "execution_count": 12,
   "id": "b86a9f95-fcfa-49ed-8290-e7249ab16199",
   "metadata": {},
   "outputs": [
    {
     "data": {
      "image/png": "[encoded data removed]",
      "text/plain": [
       "<Figure size 640x480 with 1 Axes>"
      ]
     },
     "metadata": {},
     "output_type": "display_data"
    }
   ],
   "source": [
    "import matplotlib.pyplot as plt\n",
    "from mpl_toolkits.mplot3d import Axes3D\n",
    "import numpy as np\n",
    "\n",
    "# Define the vector (example)\n",
    "origin = np.array([0, 0, 0])\n",
    "vector1 = np.array(vectors_3d[0])\n",
    "vector2 = np.array(vectors_3d[1])\n",
    "vector3 = np.array(vectors_3d[2])\n",
    "vector4 = np.array(vectors_3d[3])\n",
    "\n",
    "\n",
    "# Create 3D figure and axis\n",
    "fig = plt.figure()\n",
    "ax = fig.add_subplot(111, projection='3d')\n",
    "\n",
    "# Plot vector\n",
    "ax.quiver(*origin, *vector1, color='r', arrow_length_ratio=0.1)\n",
    "ax.quiver(*origin, *vector2, color='b', arrow_length_ratio=0.1)\n",
    "ax.quiver(*origin, *vector3, color='g', arrow_length_ratio=0.1)\n",
    "ax.quiver(*origin, *vector4, color='y', arrow_length_ratio=0.1)\n",
    "\n",
    "# Set symmetric limits around the origin\n",
    "limit = 3\n",
    "ax.set_xlim([-limit, limit])\n",
    "ax.set_ylim([-limit, limit])\n",
    "ax.set_zlim([-limit, limit])\n",
    "\n",
    "# Title\n",
    "ax.set_title('3D Vector with Centered Grid')\n",
    "\n",
    "# Draw grid-like reference planes manually (XZ, YZ, XY)\n",
    "grid_range = np.linspace(-limit, limit, 11)\n",
    "\n",
    "# Draw XY grid\n",
    "for x in grid_range:\n",
    "    ax.plot([x, x], [-limit, limit], [0, 0], color='lightgray', linewidth=0.2)\n",
    "for y in grid_range:\n",
    "    ax.plot([-limit, limit], [y, y], [0, 0], color='lightgray', linewidth=0.2)\n",
    "\n",
    "# Draw XZ grid\n",
    "for x in grid_range:\n",
    "    ax.plot([x, x], [0, 0], [-limit, limit], color='lightgray', linewidth=0.2)\n",
    "for z in grid_range:\n",
    "    ax.plot([-limit, limit], [0, 0], [z, z], color='lightgray', linewidth=0.2)\n",
    "\n",
    "# Draw YZ grid\n",
    "for y in grid_range:\n",
    "    ax.plot([0, 0], [y, y], [-limit, limit], color='lightgray', linewidth=0.2)\n",
    "for z in grid_range:\n",
    "    ax.plot([0, 0], [-limit, limit], [z, z], color='lightgray', linewidth=0.2)\n",
    "\n",
    "# Draw axis lines manually through origin\n",
    "ax.plot([-limit, limit], [0, 0], [0, 0], color='black', linewidth=1)  # X\n",
    "ax.plot([0, 0], [-limit, limit], [0, 0], color='black', linewidth=1)  # Y\n",
    "ax.plot([0, 0], [0, 0], [-limit, limit], color='black', linewidth=1)  # Z\n",
    "\n",
    "ax.grid(False)  # Disables grid lines\n",
    "# Remove ticks and tick labels\n",
    "ax.set_xticks([])\n",
    "ax.set_yticks([])\n",
    "ax.set_zticks([])\n",
    "ax.set_xticklabels([])\n",
    "ax.set_yticklabels([])\n",
    "ax.set_zticklabels([])\n",
    "\n",
    "# Remove axis labels\n",
    "ax.set_xlabel('')\n",
    "ax.set_ylabel('')\n",
    "ax.set_zlabel('')\n",
    "\n",
    "# Hide pane backgrounds\n",
    "ax.xaxis.pane.fill = False\n",
    "ax.yaxis.pane.fill = False\n",
    "ax.zaxis.pane.fill = False\n",
    "\n",
    "# Hide pane edge lines (the cube)\n",
    "ax.xaxis.line.set_color((0.0, 0.0, 0.0, 0.0))\n",
    "ax.yaxis.line.set_color((0.0, 0.0, 0.0, 0.0))\n",
    "ax.zaxis.line.set_color((0.0, 0.0, 0.0, 0.0))\n",
    "\n",
    "plt.show()"
   ]
  },
  {
   "cell_type": "code",
   "execution_count": null,
   "id": "1f0f9f3a-f7a1-4773-9d7e-5436f8e45667",
   "metadata": {},
   "outputs": [],
   "source": []
  }
 ],
 "metadata": {
  "kernelspec": {
   "display_name": "Python 3 (ipykernel)",
   "language": "python",
   "name": "python3"
  },
  "language_info": {
   "codemirror_mode": {
    "name": "ipython",
    "version": 3
   },
   "file_extension": ".py",
   "mimetype": "text/x-python",
   "name": "python",
   "nbconvert_exporter": "python",
   "pygments_lexer": "ipython3",
   "version": "3.12.11"
  }
 },
 "nbformat": 4,
 "nbformat_minor": 5
}
