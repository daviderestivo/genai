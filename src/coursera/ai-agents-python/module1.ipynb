{
 "cells": [
  {
   "cell_type": "markdown",
   "id": "f222dc66-2ca1-48df-9038-8f99f04f28fa",
   "metadata": {},
   "source": [
    "# Introduction"
   ]
  },
  {
   "cell_type": "markdown",
   "id": "ab632ca7-688b-44ba-b3d5-6b1fcbf71904",
   "metadata": {},
   "source": [
    "Make sure you have 'LM Studio' running locally. 'LM Studio' loaded models listen on:\n",
    "`http://localhost:1234/v1/chat/completions`"
   ]
  },
  {
   "cell_type": "markdown",
   "id": "0deadc57-050f-45a0-bf9d-6b9125928a2b",
   "metadata": {},
   "source": [
    "# Install required python dependencies"
   ]
  },
  {
   "cell_type": "code",
   "execution_count": 1,
   "id": "a32bd3ce-e2e9-47af-a2ec-7d68add519d4",
   "metadata": {},
   "outputs": [],
   "source": [
    "# LiteLLM (https://github.com/BerriAI/litellm)\n",
    "\n",
    "# Uncomment the below line to install litellm\n",
    "# ! pip install litellm"
   ]
  },
  {
   "cell_type": "markdown",
   "id": "43eaa343-cb02-4247-9eff-80e6ece71b37",
   "metadata": {},
   "source": [
    "# Code samples"
   ]
  },
  {
   "cell_type": "code",
   "execution_count": 4,
   "id": "7a48571f-eeb5-458e-af6c-96af300d5b01",
   "metadata": {},
   "outputs": [],
   "source": [
    "import os\n",
    "from litellm import completion\n",
    "\n",
    "#\n",
    "# LM Studio URL \n",
    "#\n",
    "os.environ['LM_STUDIO_API_BASE'] = \"http://localhost:1234/v1\"\n",
    "os.environ['LM_STUDIO_API_KEY'] = \"42\" # Not really used. Set it to a non empty value"
   ]
  },
  {
   "cell_type": "code",
   "execution_count": 5,
   "id": "8c683ed1-13b5-4381-9782-e5302c627a47",
   "metadata": {},
   "outputs": [
    {
     "name": "stdout",
     "output_type": "stream",
     "text": [
      "Quantum computing is a revolutionary technology that harnesses the power of quantum mechanics to solve complex problems and perform calculations exponentially faster than classical computers, using qubits (quantum bits) that exist in multiple states simultaneously.\n"
     ]
    }
   ],
   "source": [
    "import litellm\n",
    "import os\n",
    "\n",
    "response = litellm.completion(\n",
    "    model=\"lm_studio/lmstudio\",\n",
    "    messages=[{\"role\": \"user\", \"content\": \"Explain quantum computing in a sentence.\"}],\n",
    ")\n",
    "\n",
    "print(response['choices'][0]['message']['content'])"
   ]
  },
  {
   "cell_type": "code",
   "execution_count": 7,
   "id": "c4cafa45-e863-4888-9ef6-c09aaaa04093",
   "metadata": {},
   "outputs": [
    {
     "name": "stdout",
     "output_type": "stream",
     "text": [
      "**Swapping Dictionary Keys and Values using Functional Programming**\n",
      "====================================================================\n",
      "\n",
      "Here's how you can achieve this in a functional programming style:\n",
      "\n",
      "```python\n",
      "def swap_dict_keys_and_values(input_dict):\n",
      "    \"\"\"\n",
      "    Returns a new dictionary with the keys and values swapped.\n",
      "\n",
      "    :param input_dict: Input dictionary\n",
      "    :return: Dictionary with keys and values swapped\n",
      "    \"\"\"\n",
      "    return {v: k for k, v in input_dict.items()}\n",
      "```\n",
      "\n",
      "**Explanation**\n",
      "---------------\n",
      "\n",
      "This function uses a dictionary comprehension to create a new dictionary. It iterates over the input dictionary's items using `items()`, and for each item, it creates a new key-value pair with the value as the key (using `k`) and the original key as the value.\n",
      "\n",
      "**Example Use Case**\n",
      "--------------------\n",
      "\n",
      "```python\n",
      "my_dict = {'a': 1, 'b': 2, 'c': 3}\n",
      "\n",
      "swapped_dict = swap_dict_keys_and_values(my_dict)\n",
      "print(swapped_dict)  # Output: {'1': 'a', '2': 'b', '3': 'c'}\n",
      "```\n",
      "\n",
      "In this example, the original dictionary `my_dict` contains string keys and integer values. After calling the `swap_dict_keys_and_values()` function, a new dictionary is created with the same values (1, 2, and 3) but as keys, and the original string keys as values.\n"
     ]
    }
   ],
   "source": [
    "from typing import List, Dict\n",
    "\n",
    "def generate_response(messages: List[Dict]) -> str:\n",
    "    \"\"\"Call LLM to get response\"\"\"\n",
    "    response = completion(\n",
    "        model=\"lm_studio/lmstudio\",\n",
    "        messages=messages,\n",
    "        max_tokens=1024\n",
    "    )\n",
    "    return response.choices[0].message.content\n",
    "\n",
    "\n",
    "messages = [\n",
    "    {\"role\": \"system\", \"content\": \"You are an expert software engineer that prefers functional programming.\"},\n",
    "    {\"role\": \"user\", \"content\": \"Write a function to swap the keys and values in a dictionary.\"}\n",
    "]\n",
    "\n",
    "response = generate_response(messages)\n",
    "print(response)"
   ]
  },
  {
   "cell_type": "code",
   "execution_count": null,
   "id": "ef1a319f-c971-4a53-82d2-a8a07b6502fe",
   "metadata": {},
   "outputs": [],
   "source": []
  }
 ],
 "metadata": {
  "kernelspec": {
   "display_name": "Python 3 (ipykernel)",
   "language": "python",
   "name": "python3"
  },
  "language_info": {
   "codemirror_mode": {
    "name": "ipython",
    "version": 3
   },
   "file_extension": ".py",
   "mimetype": "text/x-python",
   "name": "python",
   "nbconvert_exporter": "python",
   "pygments_lexer": "ipython3",
   "version": "3.13.3"
  }
 },
 "nbformat": 4,
 "nbformat_minor": 5
}
