{
 "cells": [
  {
   "cell_type": "markdown",
   "id": "5c73ef35-d35d-4b34-91bd-2a88bf957364",
   "metadata": {},
   "source": [
    "# Imports"
   ]
  },
  {
   "cell_type": "code",
   "execution_count": 1,
   "id": "bd67518f-3e2e-40fc-b883-9f50ca817719",
   "metadata": {},
   "outputs": [],
   "source": [
    "import requests\n",
    "import json\n",
    "from collections import Counter\n",
    "import time\n",
    "\n",
    "LMSTUDIO_URL = \"http://localhost:1234/v1/chat/completions\""
   ]
  },
  {
   "cell_type": "markdown",
   "id": "4c814d82-5cbe-4c9e-aa14-2d1674fce4e4",
   "metadata": {},
   "source": [
    "# 1. An example"
   ]
  },
  {
   "cell_type": "code",
   "execution_count": 2,
   "id": "aa92f346-9180-4cac-abbb-748aa5496e9c",
   "metadata": {},
   "outputs": [],
   "source": [
    "full_prompt = f\"Answer the question step by step:\\nSum 2+2\\nA:\"\n",
    "    \n",
    "headers = {\"Content-Type\": \"application/json\"}\n",
    "payload = {\n",
    "    \"model\": \"local-model\",  # This can be anything; LM Studio ignores it\n",
    "    \"messages\": [{\"role\": \"user\", \"content\": full_prompt}],\n",
    "    \"temperature\": 0.7,\n",
    "    \"max_tokens\": 200,\n",
    "}"
   ]
  },
  {
   "cell_type": "code",
   "execution_count": 3,
   "id": "abde9447-98be-4fef-aac3-fd00fa749294",
   "metadata": {},
   "outputs": [],
   "source": [
    "response = requests.post(LMSTUDIO_URL, headers=headers, json=payload)"
   ]
  },
  {
   "cell_type": "code",
   "execution_count": 4,
   "id": "0c7d0b2d-8b75-4e4b-b1d0-d9ff008cc3a0",
   "metadata": {},
   "outputs": [
    {
     "data": {
      "text/plain": [
       "{'id': 'chatcmpl-lpkazxdiombsc3obq1caw',\n",
       " 'object': 'chat.completion',\n",
       " 'created': 1746260920,\n",
       " 'model': 'llama-3.2-3b-instruct',\n",
       " 'choices': [{'index': 0,\n",
       "   'logprobs': None,\n",
       "   'finish_reason': 'stop',\n",
       "   'message': {'role': 'assistant',\n",
       "    'content': \"Here's the step-by-step calculation:\\n\\n1. Start with the given numbers: 2 and 2\\n2. Add the two numbers together: 2 + 2 = \\n3. The result of the addition is: 4\"}}],\n",
       " 'usage': {'prompt_tokens': 50, 'completion_tokens': 48, 'total_tokens': 98},\n",
       " 'stats': {},\n",
       " 'system_fingerprint': 'llama-3.2-3b-instruct'}"
      ]
     },
     "execution_count": 4,
     "metadata": {},
     "output_type": "execute_result"
    }
   ],
   "source": [
    "response.json()"
   ]
  },
  {
   "cell_type": "markdown",
   "id": "f21e2c76-d829-4733-b47b-55c0de44c256",
   "metadata": {},
   "source": [
    "# 2. Functions Definitions"
   ]
  },
  {
   "cell_type": "code",
   "execution_count": 5,
   "id": "0bc1a5a8-f8c4-4729-82b7-cf79e5f01f9c",
   "metadata": {},
   "outputs": [],
   "source": [
    "def generate_reasoning(prompt, temperature=0.7):\n",
    "    \"\"\"Generate a single reasoning trace using LM Studio's local model.\"\"\"\n",
    "    full_prompt = f\"Answer the question step by step:\\n{prompt}\\nA:\"\n",
    "    \n",
    "    headers = {\"Content-Type\": \"application/json\"}\n",
    "    payload = {\n",
    "        \"model\": \"local-model\",  # This can be anything; LM Studio ignores it\n",
    "        \"messages\": [{\"role\": \"user\", \"content\": full_prompt}],\n",
    "        \"temperature\": temperature,\n",
    "        \"max_tokens\": 200,\n",
    "    }\n",
    "\n",
    "    response = requests.post(LMSTUDIO_URL, headers=headers, json=payload)\n",
    "    if response.status_code == 200:\n",
    "        return response.json()[\"choices\"][0][\"message\"][\"content\"]\n",
    "    else:\n",
    "        raise Exception(f\"LM Studio request failed: {response.text}\")"
   ]
  },
  {
   "cell_type": "code",
   "execution_count": 6,
   "id": "11aaf93b-2949-4cd0-a6aa-a6d7dca2ea25",
   "metadata": {},
   "outputs": [],
   "source": [
    "def extract_answer(text):\n",
    "    \"\"\"Extract the final number answer from the model output.\"\"\"\n",
    "    lines = text.strip().split(\"\\n\")\n",
    "    for line in reversed(lines):\n",
    "        if any(char.isdigit() for char in line):\n",
    "            return ''.join(filter(lambda c: c.isdigit(), line))\n",
    "    return \"unknown\""
   ]
  },
  {
   "cell_type": "code",
   "execution_count": 7,
   "id": "62dc10be-4f69-4bbb-8e8a-90fbbb4bf641",
   "metadata": {},
   "outputs": [],
   "source": [
    "def self_consistent_answer(prompt, num_samples=5):\n",
    "    answers = []\n",
    "    for i in range(num_samples):\n",
    "        try:\n",
    "            reasoning = generate_reasoning(prompt, temperature=0.8)\n",
    "            answer = extract_answer(reasoning)\n",
    "            print(f\"Run {i+1}:\\n{reasoning}\\n-> Answer: {answer}\\n\")\n",
    "            answers.append(answer)\n",
    "            time.sleep(0.5)  # avoid overwhelming the local model\n",
    "        except Exception as e:\n",
    "            print(f\"Error during generation {i+1}: {e}\")\n",
    "\n",
    "    most_common = Counter(answers).most_common(1)\n",
    "    return most_common[0] if most_common else (\"unknown\", 0)"
   ]
  },
  {
   "cell_type": "code",
   "execution_count": 8,
   "id": "beb184fd-31f0-4f2d-a287-9e5fb6e746ae",
   "metadata": {},
   "outputs": [
    {
     "name": "stdout",
     "output_type": "stream",
     "text": [
      "Run 1:\n",
      "To find the total number of wheels, we need to multiply the number of cars by the number of wheels each car has.\n",
      "\n",
      "Step 1: Identify the number of cars (3)\n",
      "Step 2: Identify the number of wheels per car (4)\n",
      "Step 3: Multiply the number of cars by the number of wheels per car\n",
      "   Total wheels = Number of cars * Number of wheels per car\n",
      "                  = 3 * 4\n",
      "                  = 12\n",
      "\n",
      "Answer: There are 12 wheels in total.\n",
      "-> Answer: 12\n",
      "\n",
      "Run 2:\n",
      "To find the total number of wheels, we need to follow these steps:\n",
      "\n",
      "1. Identify the number of cars: There are 3 cars.\n",
      "2. Identify the number of wheels on each car: Each car has 4 wheels.\n",
      "3. Multiply the number of cars by the number of wheels on each car: \n",
      "   3 cars * 4 wheels/car = 12 wheels\n",
      "\n",
      "Therefore, there are a total of 12 wheels.\n",
      "-> Answer: 12\n",
      "\n",
      "Run 3:\n",
      "To find the total number of wheels, we need to multiply the number of cars by the number of wheels on each car.\n",
      "\n",
      "Step 1: Identify the number of cars. \n",
      "Number of cars = 3\n",
      "\n",
      "Step 2: Identify the number of wheels on each car. \n",
      "Number of wheels per car = 4\n",
      "\n",
      "Step 3: Multiply the number of cars by the number of wheels on each car. \n",
      "Total number of wheels = Number of cars * Number of wheels per car\n",
      "= 3 * 4\n",
      "= 12\n",
      "\n",
      "So, there are 12 wheels in total.\n",
      "-> Answer: 12\n",
      "\n",
      "Run 4:\n",
      "To find the total number of wheels, we need to multiply the number of cars by the number of wheels each car has.\n",
      "\n",
      "Step 1: Identify the number of cars.\n",
      "- Number of cars = 3\n",
      "\n",
      "Step 2: Identify the number of wheels each car has.\n",
      "- Number of wheels per car = 4\n",
      "\n",
      "Step 3: Multiply the number of cars by the number of wheels per car.\n",
      "- Total number of wheels = Number of cars * Number of wheels per car\n",
      "= 3 * 4\n",
      "= 12\n",
      "\n",
      "Therefore, there are 12 wheels in total.\n",
      "-> Answer: 12\n",
      "\n",
      "Run 5:\n",
      "To find the total number of wheels, we need to multiply the number of cars by the number of wheels on each car.\n",
      "\n",
      "Step 1: Identify the number of cars - 3\n",
      "Step 2: Identify the number of wheels on each car - 4\n",
      "\n",
      "Now, we multiply the number of cars by the number of wheels on each car:\n",
      "\n",
      "3 (cars) x 4 (wheels per car) = 12\n",
      "\n",
      "Answer: There are 12 wheels in total.\n",
      "-> Answer: 12\n",
      "\n",
      "\n",
      "✅ Final Self-Consistent Answer: 12 (Count: 5)\n"
     ]
    }
   ],
   "source": [
    "# Example usage\n",
    "question = \"If there are 3 cars and each car has 4 wheels, how many wheels are there in total?\"\n",
    "final_answer, count = self_consistent_answer(question, num_samples=5)\n",
    "print(f\"\\n✅ Final Self-Consistent Answer: {final_answer} (Count: {count})\")"
   ]
  },
  {
   "cell_type": "code",
   "execution_count": null,
   "id": "7d9fa324-e602-451a-bbd0-5ab9ae26e8b3",
   "metadata": {},
   "outputs": [],
   "source": []
  },
  {
   "cell_type": "code",
   "execution_count": null,
   "id": "f93d6a76-0135-4406-8086-f92cc3eabc74",
   "metadata": {},
   "outputs": [],
   "source": []
  }
 ],
 "metadata": {
  "kernelspec": {
   "display_name": "Python 3 (ipykernel)",
   "language": "python",
   "name": "python3"
  },
  "language_info": {
   "codemirror_mode": {
    "name": "ipython",
    "version": 3
   },
   "file_extension": ".py",
   "mimetype": "text/x-python",
   "name": "python",
   "nbconvert_exporter": "python",
   "pygments_lexer": "ipython3",
   "version": "3.13.3"
  }
 },
 "nbformat": 4,
 "nbformat_minor": 5
}
